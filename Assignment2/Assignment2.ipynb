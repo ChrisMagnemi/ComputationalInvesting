{
 "cells": [
  {
   "cell_type": "markdown",
   "metadata": {},
   "source": [
    "# <center>EC3382 - Assignment 2</center>"
   ]
  },
  {
   "cell_type": "markdown",
   "metadata": {},
   "source": [
    "Importing  packages"
   ]
  },
  {
   "cell_type": "code",
   "execution_count": 1,
   "metadata": {
    "collapsed": true,
    "run_control": {
     "frozen": false,
     "read_only": false
    }
   },
   "outputs": [],
   "source": [
    "import numpy as np"
   ]
  },
  {
   "cell_type": "markdown",
   "metadata": {},
   "source": [
    "Example variables, you can see what these numbers are and work through your solutions. We will use different numbers for grading."
   ]
  },
  {
   "cell_type": "code",
   "execution_count": 2,
   "metadata": {
    "run_control": {
     "frozen": false,
     "read_only": false
    }
   },
   "outputs": [
    {
     "name": "stdout",
     "output_type": "stream",
     "text": [
      "example_stock_prices [[ 10.  12.  15.  10.  12.  10.]\n",
      " [ 20.  24.  30.  20.  24.  20.]]\n",
      "example_holdings [[ 1.  1.  1.  2.  2.  2.]\n",
      " [ 2.  2.  2.  1.  1.  1.]]\n",
      "example_riskfree [ 0.1  0.2  0.1  0.5  0.1  0.1]\n",
      "example_target [ 0.3   0.    0.3  -0.2   0.25  0.5 ]\n",
      "example_events [ 1. -1. -2. -3. -1.  1.  2. -3.  4. -1. -1. -1.]\n"
     ]
    }
   ],
   "source": [
    "from assignment2_variables import example_stock_prices, example_riskfree, example_target, example_events, example_holdings\n",
    "print \"example_stock_prices\", example_stock_prices\n",
    "print \"example_holdings\", example_holdings\n",
    "print \"example_riskfree\", example_riskfree\n",
    "print \"example_target\", example_target\n",
    "print \"example_events\", example_events\n"
   ]
  },
  {
   "cell_type": "markdown",
   "metadata": {},
   "source": [
    "## Part A: Descriptive statistics"
   ]
  },
  {
   "cell_type": "markdown",
   "metadata": {},
   "source": [
    "Note that we have imported some variables from the file assignment2_variables. The print statements show you what these variables are so that you can verify what your code is doing. The assert statements provided here in this notebook helps you check whether you solutions are correct. For grading, you will submit only the .py version of the notebook, and we will use a different set of values to evaluate whether your functions are correct.\n",
    "\n",
    "To get started, first construct the value of your porfolio from the prices and the holdings. example_prices contains two lists, one for each ticker. example_holdings contains two lists as well, one for each ticker. As we discussed in class, you now construct your portfolio value over time, and from there, your portfolio's returns to use the portfolio evaluation tools that we learned in class. Construct a function that works even if there are more than 2 ticker symbols and more or fewer time periods. That is, do not assume 2 tickers and 6 periods as we did in this example.\n",
    "\n",
    "If we ran the code:\n",
    "\n",
    "```python \n",
    "example_prices = get_pf_val(example_stock_prices,example_holdings)\n",
    "print example_prices\n",
    "```\n",
    "\n",
    "the output would be\n",
    "\n",
    "```python \n",
    "[ 50.  60.  75.  40.  48.  40.]\n",
    "```"
   ]
  },
  {
   "cell_type": "code",
   "execution_count": 3,
   "metadata": {
    "run_control": {
     "frozen": false,
     "read_only": false
    }
   },
   "outputs": [
    {
     "name": "stdout",
     "output_type": "stream",
     "text": [
      "[ 50.  60.  75.  40.  48.  40.]\n"
     ]
    }
   ],
   "source": [
    "def get_pf_val(prices,holdings):\n",
    "    holdings = holdings * prices\n",
    "    output = np.sum(holdings, 0)\n",
    "    return output\n",
    "#     frimbob = len(prices) - 1\n",
    "#     start_prices = prices[0]\n",
    "#     end_prices = prices[frimbob]\n",
    "#     start_holdings = holdings[0]\n",
    "#     end_holdings = holdings[frimbob]\n",
    "#     return start_prices*start_holdings + end_prices*end_holdings\n",
    "    \n",
    "\n",
    "example_prices = get_pf_val(example_stock_prices,example_holdings)\n",
    "print example_prices"
   ]
  },
  {
   "cell_type": "markdown",
   "metadata": {},
   "source": [
    "With the value of the portfolio calculated, we can treat it as the \"price\" of a single asset. In this first problem, you need to construct a function that computes the mean and the standard deviation of the portfolio. Your function takes a single input, which is a **numpy array** containing the \"price\" of portfolio at different points in time (note that there isn't a particular sampling frequency: these prices could be prices sampled every minute, every hour, or even every year,) and returns the mean and the standard deviation of the returns, calculated from these prices. The assumption is that prices in the vector are ordered from **oldest to more recent**.  \n",
    "\n",
    "Assume that this column vector of prices contains at least 2 elements. Please make use of built-in functions where possible."
   ]
  },
  {
   "cell_type": "markdown",
   "metadata": {},
   "source": [
    "### Problem A1 \n",
    "\n",
    "Create a function `get_returns(a)` that computes the returns (i.e., the percentage difference) of values in a `numpy array`. You may assume that none of the entries is exactly zero. For the zeroth entry, return `np.nan` (for not a number), since there is no entry before it.\n",
    "\n",
    "For example, if we ran the code\n",
    "```python\n",
    "example_returns = get_returns(a = example_prices)\n",
    "print example_returns\n",
    "```\n",
    "\n",
    "The output would be\n",
    "```\n",
    "[        nan  0.2         0.25       -0.46666667  0.2        -0.16666667]\n",
    "```\n",
    "\n"
   ]
  },
  {
   "cell_type": "code",
   "execution_count": 4,
   "metadata": {
    "run_control": {
     "frozen": false,
     "read_only": false
    }
   },
   "outputs": [
    {
     "name": "stdout",
     "output_type": "stream",
     "text": [
      "[ 50.  60.  75.  40.  48.  40.]\n",
      "[        nan  0.2         0.25       -0.46666667  0.2        -0.16666667]\n"
     ]
    }
   ],
   "source": [
    "def get_returns(a):\n",
    "    percentages = [np.nan]\n",
    "    for i in range(len(a)-1):\n",
    "        percentages.append((a[i+1]-a[i])/a[i])\n",
    "    return np.around(percentages, decimals=8)\n",
    "\n",
    "example_returns = get_returns(a = example_prices)\n",
    "print example_prices\n",
    "print example_returns"
   ]
  },
  {
   "cell_type": "markdown",
   "metadata": {},
   "source": [
    "### Problem A2: \n",
    "\n",
    "Create a functions `get_mean(a)` and `get_stddev(a)` that return the mean and standard deviation of a numpy array, *ignoring `np.nan` elements*. You can assume that the input will have at least two non-missing entries.\n",
    "\n",
    "For the of standard deviation, use the unbiased definition (i.e., with `n-1` in the denominator)."
   ]
  },
  {
   "cell_type": "markdown",
   "metadata": {},
   "source": [
    "Example input\n",
    "\n",
    "```python\n",
    "example_returns = get_returns(a = example_prices)\n",
    "m = get_mean(a = example_returns)\n",
    "s = get_stddev(a = example_returns)\n",
    "print \"Mean: \", m\n",
    "print \"Std: \", s\n",
    "```\n",
    "\n",
    "Example output\n",
    "```python\n",
    "Mean:  0.00333333333333\n",
    "Std:  0.311448230048\n",
    "```\n"
   ]
  },
  {
   "cell_type": "code",
   "execution_count": 5,
   "metadata": {},
   "outputs": [
    {
     "name": "stdout",
     "output_type": "stream",
     "text": [
      "Mean:  0.003333332\n",
      "Std:  0.31144823176\n"
     ]
    }
   ],
   "source": [
    "def get_mean(a):\n",
    "    no_nans_a = [value for value in a if not np.isnan(value)]\n",
    "    return np.sum(no_nans_a) / len(no_nans_a)\n",
    "\n",
    "def get_stddev(a):\n",
    "    m = get_mean(a)\n",
    "    no_nans_a = [value for value in a if not np.isnan(value)]\n",
    "    sumy = 0\n",
    "    for item in no_nans_a:\n",
    "        sumy += (item - m)**2\n",
    "    return (sumy/(len(no_nans_a)-1))**.5\n",
    "    \n",
    "m = get_mean(a = example_returns)\n",
    "s = get_stddev(a = example_returns)\n",
    "print \"Mean: \", m\n",
    "print \"Std: \", s"
   ]
  },
  {
   "cell_type": "markdown",
   "metadata": {},
   "source": [
    "##  Part B: Risk measures"
   ]
  },
  {
   "cell_type": "markdown",
   "metadata": {},
   "source": [
    "A central goal in attaining returns is doing so while undertaking the least amount of risk. There are multiple measures for the amount of return per unit risk taken. One popular measure is the Sharpe ratio which measures the averaged excess return of the portfolio (including cash) per unit risk taken as measured by the standard deviation of the portfolio's returns. Excess return is the portfolio's return minus the risk free rate.\n",
    "\n",
    "The information ratio uses benchmark or target returns instead of the risk free rate. This small change now permits measuring the fund manager's ability to consistently beat a benchmark (eg SP500) instead of just doing better than the risk free rate.\n",
    "\n",
    "One critique of the Sharpe ratio is that its measure of risk includes both upside and downside risk. That it, it treats equally a portfolio's tendency to appreciate in value as well as lose value. Clearly, the investor prefers one over the other.\n",
    "\n",
    "The Sortino ratio is an attempt to rectify this problem. In the calculation of the standard deviation, it sets equal to zero the returns that are in excess of a user's determined target. In practice, it is common to set the user's target to the risk free rate.\n",
    "\n",
    "You will write a set of functions that will allow you to compute the Sharpe, Sortino and information ratios of a `numpy array`."
   ]
  },
  {
   "cell_type": "markdown",
   "metadata": {},
   "source": [
    "### Part B1: Excess returns\n",
    "\n",
    "Write a function `get_excess_returns(returns, baseline)` that takes two `numpy arrays` and returns their difference in a new `numpy array`."
   ]
  },
  {
   "cell_type": "markdown",
   "metadata": {},
   "source": [
    "Expected output\n",
    "\n",
    "```python\n",
    "print get_excess_returns(returns = example_returns, baseline = example_riskfree)\n",
    "\n",
    "[        nan  0.          0.15       -0.96666667  0.1        -0.26666667]\n",
    "```"
   ]
  },
  {
   "cell_type": "code",
   "execution_count": 6,
   "metadata": {
    "run_control": {
     "frozen": false,
     "read_only": false
    }
   },
   "outputs": [
    {
     "name": "stdout",
     "output_type": "stream",
     "text": [
      "[        nan  0.          0.15       -0.96666667  0.1        -0.26666667]\n"
     ]
    }
   ],
   "source": [
    "def get_excess_returns(returns, baseline):\n",
    "    return returns - baseline\n",
    "\n",
    "print get_excess_returns(returns = example_returns, baseline = example_riskfree)"
   ]
  },
  {
   "cell_type": "markdown",
   "metadata": {},
   "source": [
    "### Part B2: Sharpe and information ratios\n",
    "\n",
    "Now use the three functions you just defined in parts A1, A2 and B1 to create a function `get_ratio(a, baseline)`. This function does the following:\n",
    "\n",
    "+ Computes the returns on the a\n",
    "\n",
    "+ Computes the difference between the returns above and baseline\n",
    "\n",
    "+ Outputs the ratio of the mean and standard deviation of this difference\n",
    "\n",
    "Explain how to use your function to compute the Sharpe and information ratios."
   ]
  },
  {
   "cell_type": "markdown",
   "metadata": {},
   "source": [
    "```python\n",
    "Example output:\n",
    "sharpe      = get_ratio(...)\n",
    "print sharpe\n",
    "-0.427974678811\n",
    "\n",
    "information      = get_ratio(...)\n",
    "print information\n",
    "-0.513327002339\n",
    "```"
   ]
  },
  {
   "cell_type": "code",
   "execution_count": 7,
   "metadata": {
    "run_control": {
     "frozen": false,
     "read_only": false
    }
   },
   "outputs": [
    {
     "name": "stdout",
     "output_type": "stream",
     "text": [
      "-0.427974680294\n",
      "-0.513327004011\n"
     ]
    }
   ],
   "source": [
    "def get_ratio(a, baseline):\n",
    "    returns = get_returns(a)\n",
    "    retdiff = returns - baseline\n",
    "    return get_mean(retdiff)/get_stddev(retdiff)\n",
    "\n",
    "sharpe = get_ratio(a=example_prices, baseline=example_riskfree)\n",
    "print sharpe\n",
    "information = get_ratio(a=example_prices, baseline=example_target)\n",
    "print information"
   ]
  },
  {
   "cell_type": "markdown",
   "metadata": {},
   "source": [
    "### Part B3: Downside semideviation"
   ]
  },
  {
   "cell_type": "markdown",
   "metadata": {},
   "source": [
    "Now create a function `get_downside_semideviation(a)` that:\n",
    "\n",
    "+ Changes all positive entries of the input `a` to zero\n",
    "+ Outputs the standard deviation of the modified a\n",
    "\n",
    "Example output to guide you:\n",
    "```python\n",
    "print get_downside_semideviation(get_excess_returns(example_returns, example_target))\n",
    "0.277037903544\n",
    "```"
   ]
  },
  {
   "cell_type": "code",
   "execution_count": 8,
   "metadata": {
    "run_control": {
     "frozen": false,
     "read_only": false
    }
   },
   "outputs": [
    {
     "name": "stdout",
     "output_type": "stream",
     "text": [
      "0.277037905108\n"
     ]
    }
   ],
   "source": [
    "def get_downside_semideviation(a):\n",
    "    for item in range(len(a)):\n",
    "        if a[item]> 0:\n",
    "            a[item] = 0\n",
    "    return get_stddev(a)\n",
    "\n",
    "print get_downside_semideviation(get_excess_returns(example_returns, example_target))"
   ]
  },
  {
   "cell_type": "markdown",
   "metadata": {},
   "source": [
    "### Part B4: Sortino ratio"
   ]
  },
  {
   "cell_type": "markdown",
   "metadata": {},
   "source": [
    "Modify your `get ratio` function to include a new option `ratio`, as in `get_ratio(a, baseline, downside_semi_stddev)`. Your function should do the following:\n",
    "\n",
    "```\n",
    "Compute the returns on the input a\n",
    "\n",
    "Compute the difference between the returns above and baseline\n",
    "\n",
    "If downsize_semi_stddev is False:\n",
    "    \n",
    "    Output the ratio of the mean and standard deviation of the difference\n",
    "\n",
    "Else:\n",
    "\n",
    "    Output the ratio of the mean and downside standard semideviation of the difference\n",
    "\n",
    "```\n",
    "    \n",
    "\n",
    "Moreover, the `downside_semi_stddev` argument should have the boolean value `False` as default.\n",
    "\n",
    "Explain how you would get the sharpe, sortino and information ratios using your new function."
   ]
  },
  {
   "cell_type": "markdown",
   "metadata": {},
   "source": [
    "Example\n",
    "\n",
    "```python\n",
    "print get_ratio(example_prices, example_riskfree, True)\n",
    "-0.469676155183\n",
    "\n",
    "print get_ratio(example_prices, example_riskfree, False)\n",
    "-0.427974678811\n",
    "```"
   ]
  },
  {
   "cell_type": "code",
   "execution_count": 9,
   "metadata": {
    "run_control": {
     "frozen": false,
     "read_only": false
    }
   },
   "outputs": [
    {
     "name": "stdout",
     "output_type": "stream",
     "text": [
      "-0.469676156716\n",
      "-0.427974680294\n"
     ]
    }
   ],
   "source": [
    "def get_ratio(a, baseline, downside_semi_stddev = False):\n",
    "    returns = get_returns(a)\n",
    "    retdiff = returns - baseline\n",
    "    if downside_semi_stddev == False:\n",
    "        return get_mean(retdiff)/get_stddev(retdiff)\n",
    "    else:\n",
    "        return get_mean(retdiff)/get_downside_semideviation(retdiff)\n",
    "\n",
    "print get_ratio(example_prices, example_riskfree, True)\n",
    "print get_ratio(example_prices, example_riskfree, False)"
   ]
  },
  {
   "cell_type": "markdown",
   "metadata": {},
   "source": [
    "## Part C"
   ]
  },
  {
   "cell_type": "markdown",
   "metadata": {},
   "source": [
    "Another commonly used measure of the downside risk of a portfolio is the largest drop in value experienced since assuming the investment position. In other words, for a given period in time, the investor looks back at the value of her portfolio and considers the highest historical value of the portfolio. The investor then computes the percent loss (if any) between the current value of the portfolio and its peak value.\n",
    "\n",
    "Another way of putting it is to interpret the drawdown as the size of the regret. The investor regrets not selling the portfolio in the past when it was at a higher price. The size of the hypothetical loss is the drawdown at a given point in time.\n",
    "\n",
    "The maximum drawdown is the maximum drawdown across all the dates. It refers to the largest  loss that the investor could have experienced over the holding period of the portfolio.\n",
    "\n",
    "Write down a function `get_max_drawdown(a)` to calculate the maximum drawdown. You do not need to output the drawdown times, just the value itself. "
   ]
  },
  {
   "cell_type": "markdown",
   "metadata": {},
   "source": [
    "Example output \n",
    "\n",
    "```python\n",
    "print \"Max drawdown: \", get_max_drawdown(a = example_prices)\n",
    "Max drawdown: 0.466666666667\n",
    "```"
   ]
  },
  {
   "cell_type": "code",
   "execution_count": 10,
   "metadata": {
    "run_control": {
     "frozen": false,
     "read_only": false
    }
   },
   "outputs": [
    {
     "name": "stdout",
     "output_type": "stream",
     "text": [
      "0.466666666667\n"
     ]
    }
   ],
   "source": [
    "def get_max_drawdown(a):\n",
    "    maximum = np.max(a)\n",
    "    minimum = np.min(a)\n",
    "    percent_change = (maximum-minimum)/maximum\n",
    "    return percent_change\n",
    "        \n",
    "# print \"Max drawdown: \", get_max_drawdown(a = example_prices)\n",
    "print get_max_drawdown(a = example_prices)"
   ]
  },
  {
   "cell_type": "markdown",
   "metadata": {},
   "source": [
    "## Part D: Event Detection"
   ]
  },
  {
   "cell_type": "markdown",
   "metadata": {
    "collapsed": true,
    "run_control": {
     "frozen": false,
     "read_only": false
    }
   },
   "source": [
    "Write a function `detect_three_negative(a)` that scans the input a for the event \"three negative values in a row\", and outputs the third day in which the event was detected. Importantly after each time the event is detected, we restart counting. So four or five consecutive negative numbers only count as one event, on the third day."
   ]
  },
  {
   "cell_type": "markdown",
   "metadata": {},
   "source": [
    "Example:\n",
    "```python\n",
    "\n",
    "print example_events\n",
    "[ 1. -1. -2. -3. -1.  1.  2. -3.  4. -1. -1. -1.]\n",
    "print detect_three_negative(a = example_events)\n",
    "[3, 11]\n",
    "```"
   ]
  },
  {
   "cell_type": "code",
   "execution_count": 11,
   "metadata": {
    "run_control": {
     "frozen": false,
     "read_only": false
    }
   },
   "outputs": [
    {
     "name": "stdout",
     "output_type": "stream",
     "text": [
      "[ 1. -1. -2. -3. -1.  1.  2. -3.  4. -1. -1. -1.]\n",
      "[3, 11]\n"
     ]
    }
   ],
   "source": [
    "def detect_three_negative(a):\n",
    "    event_array = []\n",
    "    event_alarm = \"on\"\n",
    "    d1 = 0\n",
    "    d2 = 0\n",
    "    d3 = 0\n",
    "    for i in range(len(a)):\n",
    "        d1 = d2\n",
    "        d2 = d3\n",
    "        d3 = a[i]\n",
    "        if (d1<0)&(d2<0)&(d3<0)&(event_alarm == \"on\"):\n",
    "            event_array.append(i)\n",
    "            event_alarm = \"off\"\n",
    "        if d3 > -1:\n",
    "            event_alarm = \"on\"\n",
    "    return event_array\n",
    "    \n",
    "\n",
    "print example_events\n",
    "print detect_three_negative(a = example_events)"
   ]
  },
  {
   "cell_type": "code",
   "execution_count": 12,
   "metadata": {},
   "outputs": [
    {
     "name": "stdout",
     "output_type": "stream",
     "text": [
      "[ 1. -1. -2. -3. -1.  1.  2. -3.  4. -1. -1. -1.]\n",
      "[3, 11]\n"
     ]
    }
   ],
   "source": [
    "def detect_three_negative(a):\n",
    "    event_array = []\n",
    "    i = 0\n",
    "    while i < len(a)-2:\n",
    "        if a[i] < 0:\n",
    "            if a[i+1] < 0:\n",
    "                if a[i+2] < 0:\n",
    "                    event_array.append(i+2)\n",
    "                    i = i+3\n",
    "                else:\n",
    "                    i = i+1\n",
    "            else:\n",
    "                i = i+1\n",
    "        else:\n",
    "            i = i+1\n",
    "    return event_array\n",
    "    \n",
    "\n",
    "print example_events\n",
    "print detect_three_negative(a = example_events)"
   ]
  },
  {
   "cell_type": "code",
   "execution_count": null,
   "metadata": {
    "collapsed": true
   },
   "outputs": [],
   "source": []
  },
  {
   "cell_type": "code",
   "execution_count": null,
   "metadata": {
    "collapsed": true
   },
   "outputs": [],
   "source": []
  }
 ],
 "metadata": {
  "anaconda-cloud": {},
  "kernelspec": {
   "display_name": "Python 2",
   "language": "python",
   "name": "python2"
  },
  "language_info": {
   "codemirror_mode": {
    "name": "ipython",
    "version": 2
   },
   "file_extension": ".py",
   "mimetype": "text/x-python",
   "name": "python",
   "nbconvert_exporter": "python",
   "pygments_lexer": "ipython2",
   "version": "2.7.13"
  }
 },
 "nbformat": 4,
 "nbformat_minor": 1
}
