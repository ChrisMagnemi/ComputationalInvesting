{
 "cells": [
  {
   "cell_type": "code",
   "execution_count": 1,
   "metadata": {},
   "outputs": [
    {
     "ename": "ImportError",
     "evalue": "No module named quantopian.pipeline",
     "output_type": "error",
     "traceback": [
      "\u001b[0;31m---------------------------------------------------------------------------\u001b[0m",
      "\u001b[0;31mImportError\u001b[0m                               Traceback (most recent call last)",
      "\u001b[0;32m<ipython-input-1-e77724ec2325>\u001b[0m in \u001b[0;36m<module>\u001b[0;34m()\u001b[0m\n\u001b[0;32m----> 1\u001b[0;31m \u001b[0;32mfrom\u001b[0m \u001b[0mquantopian\u001b[0m\u001b[0;34m.\u001b[0m\u001b[0mpipeline\u001b[0m \u001b[0;32mimport\u001b[0m \u001b[0mPipeline\u001b[0m\u001b[0;34m\u001b[0m\u001b[0m\n\u001b[0m\u001b[1;32m      2\u001b[0m \u001b[0;34m\u001b[0m\u001b[0m\n\u001b[1;32m      3\u001b[0m \u001b[0;32mfrom\u001b[0m \u001b[0mquantopian\u001b[0m\u001b[0;34m.\u001b[0m\u001b[0mpipeline\u001b[0m\u001b[0;34m.\u001b[0m\u001b[0mdata\u001b[0m \u001b[0;32mimport\u001b[0m \u001b[0mmorningstar\u001b[0m \u001b[0;32mas\u001b[0m \u001b[0mms\u001b[0m\u001b[0;34m\u001b[0m\u001b[0m\n\u001b[1;32m      4\u001b[0m \u001b[0;32mfrom\u001b[0m \u001b[0mquantopian\u001b[0m\u001b[0;34m.\u001b[0m\u001b[0mpipeline\u001b[0m\u001b[0;34m.\u001b[0m\u001b[0mfactors\u001b[0m \u001b[0;32mimport\u001b[0m \u001b[0mSimpleMovingAverage\u001b[0m\u001b[0;34m\u001b[0m\u001b[0m\n\u001b[1;32m      5\u001b[0m \u001b[0;32mfrom\u001b[0m \u001b[0mquantopian\u001b[0m\u001b[0;34m.\u001b[0m\u001b[0mpipeline\u001b[0m\u001b[0;34m.\u001b[0m\u001b[0mdata\u001b[0m \u001b[0;32mimport\u001b[0m \u001b[0mFundamentals\u001b[0m\u001b[0;34m\u001b[0m\u001b[0m\n",
      "\u001b[0;31mImportError\u001b[0m: No module named quantopian.pipeline"
     ]
    }
   ],
   "source": [
    "from quantopian.pipeline import Pipeline\n",
    "\n",
    "from quantopian.pipeline.data import morningstar as ms\n",
    "from quantopian.pipeline.factors import SimpleMovingAverage\n",
    "from quantopian.pipeline.data import Fundamentals\n",
    "\n",
    "\n",
    "exchange = Fundamentals.exchange_id.latest\n",
    "from quantopian.pipeline.classifiers.fundamentals import Sector\n",
    "morningstar_sector = Sector()\n",
    "nyse_filter = exchange.eq('NYS')"
   ]
  },
  {
   "cell_type": "code",
   "execution_count": 4,
   "metadata": {},
   "outputs": [
    {
     "ename": "ImportError",
     "evalue": "No module named Blaze",
     "output_type": "error",
     "traceback": [
      "\u001b[0;31m---------------------------------------------------------------------------\u001b[0m",
      "\u001b[0;31mImportError\u001b[0m                               Traceback (most recent call last)",
      "\u001b[0;32m<ipython-input-4-6182ddb96395>\u001b[0m in \u001b[0;36m<module>\u001b[0;34m()\u001b[0m\n\u001b[0;32m----> 1\u001b[0;31m \u001b[0;32mimport\u001b[0m \u001b[0mBlaze\u001b[0m\u001b[0;34m\u001b[0m\u001b[0m\n\u001b[0m",
      "\u001b[0;31mImportError\u001b[0m: No module named Blaze"
     ]
    }
   ],
   "source": [
    "import Blaze"
   ]
  },
  {
   "cell_type": "code",
   "execution_count": null,
   "metadata": {
    "collapsed": true
   },
   "outputs": [],
   "source": [
    "def make_pipeline():\n",
    "    exchange = Fundamentals.exchange_id.latest\n",
    "    \n",
    "    industry_code = ms.asset_classification.morningstar_industry_code.latest\n",
    "    \n",
    "    ebitda_margin = ms.operation_ratios.ebitda_margin.latest\n",
    "    morningstar_sector = Sector()\n",
    "    \n",
    "    sample_industry = 10106008\n",
    "    \n",
    "#     one_industry = (industry_code == sample_industry)\n",
    "    \n",
    "    \n",
    "#     industry_code_filter = industry_code.eq(sample_industry) | industry_code.eq(10102002)\n",
    "    \n",
    "\n",
    "    return Pipeline(\n",
    "        columns={\n",
    "            'exchange': exchange,\n",
    "            'sector_code': morningstar_sector,\n",
    "            'industry_code': industry_code,\n",
    "            'ebitda_margin': ebitda_margin\n",
    "        }#, screen=(industry_code_filter)\n",
    "    )\n",
    "\n",
    "my_pipe = make_pipeline()"
   ]
  },
  {
   "cell_type": "code",
   "execution_count": null,
   "metadata": {
    "collapsed": true
   },
   "outputs": [],
   "source": [
    "from quantopian.research import run_pipeline\n",
    "result = run_pipeline(my_pipe, '2016-01-01', '2016-01-01')\n",
    "result.head(10)\n",
    "# -1 means miscellaneous industry for industry_code\n",
    "#ebitda is a quarterly value\n",
    "# workingdf = result\n",
    "# workingdf.head(100)"
   ]
  }
 ],
 "metadata": {
  "kernelspec": {
   "display_name": "Python 2",
   "language": "python",
   "name": "python2"
  },
  "language_info": {
   "codemirror_mode": {
    "name": "ipython",
    "version": 2
   },
   "file_extension": ".py",
   "mimetype": "text/x-python",
   "name": "python",
   "nbconvert_exporter": "python",
   "pygments_lexer": "ipython2",
   "version": "2.7.13"
  }
 },
 "nbformat": 4,
 "nbformat_minor": 2
}
