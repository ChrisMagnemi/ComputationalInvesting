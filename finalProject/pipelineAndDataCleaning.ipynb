{
 "cells": [
  {
   "cell_type": "code",
   "execution_count": 1,
   "metadata": {
    "collapsed": true
   },
   "outputs": [],
   "source": [
    "import numpy as np\n",
    "import pandas as pd"
   ]
  },
  {
   "cell_type": "code",
   "execution_count": 2,
   "metadata": {
    "collapsed": true
   },
   "outputs": [],
   "source": [
    "from quantopian.pipeline import Pipeline\n"
   ]
  },
  {
   "cell_type": "code",
   "execution_count": 3,
   "metadata": {
    "collapsed": false
   },
   "outputs": [],
   "source": [
    "from quantopian.pipeline.data import morningstar as ms\n",
    "from quantopian.pipeline.data import Fundamentals"
   ]
  },
  {
   "cell_type": "code",
   "execution_count": 4,
   "metadata": {
    "collapsed": false
   },
   "outputs": [
    {
     "data": {
      "text/plain": [
       "<class 'module'>"
      ]
     },
     "execution_count": 4,
     "metadata": {},
     "output_type": "execute_result"
    }
   ],
   "source": [
    "type(ms)"
   ]
  },
  {
   "cell_type": "code",
   "execution_count": 5,
   "metadata": {
    "collapsed": true
   },
   "outputs": [],
   "source": [
    "exchange = Fundamentals.exchange_id.latest\n",
    "from quantopian.pipeline.classifiers.fundamentals import Sector\n",
    "# morningstar_sector = Sector()\n",
    "# nyse_filter = exchange.eq('NYS')"
   ]
  },
  {
   "cell_type": "code",
   "execution_count": 36,
   "metadata": {
    "collapsed": false
   },
   "outputs": [
    {
     "name": "stdout",
     "output_type": "stream",
     "text": [
      "START\n",
      "END\n"
     ]
    }
   ],
   "source": [
    "def make_pipeline():\n",
    "    print \"START\"\n",
    "    industry_code = ms.asset_classification.morningstar_industry_code.latest\n",
    "    ebitda = ms.income_statement.ebitda.latest\n",
    "    sic = ms.asset_classification.sic.latest\n",
    "    common_stock_equity = ms.balance_sheet.common_stock_equity.latest\n",
    "    #     morningstar_sector = Sector()\n",
    "    #     exchange = Fundamentals.exchange_id.latest\n",
    "    \n",
    "    \n",
    "    sample_industry = 10106008\n",
    "    \n",
    "#     one_industry = (industry_code == sample_industry)\n",
    "    \n",
    "    \n",
    "#     industry_code_filter = industry_code.eq(sample_industry) | industry_code.eq(10102002)\n",
    "    \n",
    "    print \"END\"\n",
    "    return Pipeline(\n",
    "        columns={\n",
    "            #'exchange': exchange,\n",
    "            #'sector_code': morningstar_sector,\n",
    "            'sic': sic,\n",
    "            'industry_code': industry_code,\n",
    "            'ebitda': ebitda,\n",
    "            'common_stock_equity': common_stock_equity\n",
    "        }\n",
    "    )\n",
    "\n",
    "my_pipe = make_pipeline()"
   ]
  },
  {
   "cell_type": "code",
   "execution_count": 37,
   "metadata": {
    "collapsed": false
   },
   "outputs": [
    {
     "data": {
      "text/html": [
       "<div>\n",
       "<table border=\"1\" class=\"dataframe\">\n",
       "  <thead>\n",
       "    <tr style=\"text-align: right;\">\n",
       "      <th></th>\n",
       "      <th></th>\n",
       "      <th>common_stock_equity</th>\n",
       "      <th>ebitda</th>\n",
       "      <th>industry_code</th>\n",
       "      <th>sic</th>\n",
       "    </tr>\n",
       "  </thead>\n",
       "  <tbody>\n",
       "    <tr>\n",
       "      <th rowspan=\"10\" valign=\"top\">2015-01-02 00:00:00+00:00</th>\n",
       "      <th>Equity(2 [ARNC])</th>\n",
       "      <td>1.233800e+10</td>\n",
       "      <td>8.030000e+08</td>\n",
       "      <td>10106008</td>\n",
       "      <td>3353</td>\n",
       "    </tr>\n",
       "    <tr>\n",
       "      <th>Equity(21 [AAME])</th>\n",
       "      <td>1.021170e+08</td>\n",
       "      <td>2.226000e+06</td>\n",
       "      <td>10324058</td>\n",
       "      <td>6311</td>\n",
       "    </tr>\n",
       "    <tr>\n",
       "      <th>Equity(24 [AAPL])</th>\n",
       "      <td>1.115470e+11</td>\n",
       "      <td>1.355600e+10</td>\n",
       "      <td>31167138</td>\n",
       "      <td>3571</td>\n",
       "    </tr>\n",
       "    <tr>\n",
       "      <th>Equity(25 [ARNC_PR])</th>\n",
       "      <td>1.233800e+10</td>\n",
       "      <td>8.030000e+08</td>\n",
       "      <td>10106008</td>\n",
       "      <td>3353</td>\n",
       "    </tr>\n",
       "    <tr>\n",
       "      <th>Equity(31 [ABAX])</th>\n",
       "      <td>2.020800e+08</td>\n",
       "      <td>1.104000e+07</td>\n",
       "      <td>20640091</td>\n",
       "      <td>3826</td>\n",
       "    </tr>\n",
       "    <tr>\n",
       "      <th>Equity(39 [DDC])</th>\n",
       "      <td>1.365080e+09</td>\n",
       "      <td>1.106640e+08</td>\n",
       "      <td>10106011</td>\n",
       "      <td>629</td>\n",
       "    </tr>\n",
       "    <tr>\n",
       "      <th>Equity(41 [ARCB])</th>\n",
       "      <td>5.510820e+08</td>\n",
       "      <td>5.556800e+07</td>\n",
       "      <td>31062127</td>\n",
       "      <td>4213</td>\n",
       "    </tr>\n",
       "    <tr>\n",
       "      <th>Equity(52 [ABM])</th>\n",
       "      <td>9.688000e+08</td>\n",
       "      <td>6.020000e+07</td>\n",
       "      <td>31054109</td>\n",
       "      <td>7349</td>\n",
       "    </tr>\n",
       "    <tr>\n",
       "      <th>Equity(53 [ABMD])</th>\n",
       "      <td>1.755380e+08</td>\n",
       "      <td>4.753000e+06</td>\n",
       "      <td>20639090</td>\n",
       "      <td>3841</td>\n",
       "    </tr>\n",
       "    <tr>\n",
       "      <th>Equity(62 [ABT])</th>\n",
       "      <td>2.288800e+10</td>\n",
       "      <td>1.108000e+09</td>\n",
       "      <td>20636086</td>\n",
       "      <td>2834</td>\n",
       "    </tr>\n",
       "  </tbody>\n",
       "</table>\n",
       "</div>"
      ],
      "text/plain": [
       "                                                common_stock_equity  \\\n",
       "2015-01-02 00:00:00+00:00 Equity(2 [ARNC])             1.233800e+10   \n",
       "                          Equity(21 [AAME])            1.021170e+08   \n",
       "                          Equity(24 [AAPL])            1.115470e+11   \n",
       "                          Equity(25 [ARNC_PR])         1.233800e+10   \n",
       "                          Equity(31 [ABAX])            2.020800e+08   \n",
       "                          Equity(39 [DDC])             1.365080e+09   \n",
       "                          Equity(41 [ARCB])            5.510820e+08   \n",
       "                          Equity(52 [ABM])             9.688000e+08   \n",
       "                          Equity(53 [ABMD])            1.755380e+08   \n",
       "                          Equity(62 [ABT])             2.288800e+10   \n",
       "\n",
       "                                                      ebitda  industry_code  \\\n",
       "2015-01-02 00:00:00+00:00 Equity(2 [ARNC])      8.030000e+08       10106008   \n",
       "                          Equity(21 [AAME])     2.226000e+06       10324058   \n",
       "                          Equity(24 [AAPL])     1.355600e+10       31167138   \n",
       "                          Equity(25 [ARNC_PR])  8.030000e+08       10106008   \n",
       "                          Equity(31 [ABAX])     1.104000e+07       20640091   \n",
       "                          Equity(39 [DDC])      1.106640e+08       10106011   \n",
       "                          Equity(41 [ARCB])     5.556800e+07       31062127   \n",
       "                          Equity(52 [ABM])      6.020000e+07       31054109   \n",
       "                          Equity(53 [ABMD])     4.753000e+06       20639090   \n",
       "                          Equity(62 [ABT])      1.108000e+09       20636086   \n",
       "\n",
       "                                                 sic  \n",
       "2015-01-02 00:00:00+00:00 Equity(2 [ARNC])      3353  \n",
       "                          Equity(21 [AAME])     6311  \n",
       "                          Equity(24 [AAPL])     3571  \n",
       "                          Equity(25 [ARNC_PR])  3353  \n",
       "                          Equity(31 [ABAX])     3826  \n",
       "                          Equity(39 [DDC])       629  \n",
       "                          Equity(41 [ARCB])     4213  \n",
       "                          Equity(52 [ABM])      7349  \n",
       "                          Equity(53 [ABMD])     3841  \n",
       "                          Equity(62 [ABT])      2834  "
      ]
     },
     "execution_count": 37,
     "metadata": {},
     "output_type": "execute_result"
    }
   ],
   "source": [
    "from quantopian.research import run_pipeline\n",
    "# print run_pipeline(make_pipeline(), '2015-01-01', '2015-01-02')\n",
    "result = run_pipeline(my_pipe, '2015-01-01', '2015-01-01')\n",
    "result.head(10)\n",
    "# -1 means miscellaneous industry for industry_code\n",
    "#ebitda is a quarterly value\n",
    "\n",
    "# workingdf = result\n",
    "# workingdf.head(100)\n"
   ]
  },
  {
   "cell_type": "code",
   "execution_count": 38,
   "metadata": {
    "collapsed": true
   },
   "outputs": [],
   "source": [
    "workingdf=result"
   ]
  },
  {
   "cell_type": "code",
   "execution_count": 39,
   "metadata": {
    "collapsed": false
   },
   "outputs": [
    {
     "data": {
      "text/html": [
       "<div>\n",
       "<table border=\"1\" class=\"dataframe\">\n",
       "  <thead>\n",
       "    <tr style=\"text-align: right;\">\n",
       "      <th></th>\n",
       "      <th></th>\n",
       "      <th>common_stock_equity</th>\n",
       "      <th>ebitda</th>\n",
       "      <th>industry_code</th>\n",
       "      <th>sic</th>\n",
       "    </tr>\n",
       "  </thead>\n",
       "  <tbody>\n",
       "    <tr>\n",
       "      <th rowspan=\"5\" valign=\"top\">2015-01-02 00:00:00+00:00</th>\n",
       "      <th>Equity(2 [ARNC])</th>\n",
       "      <td>1.233800e+10</td>\n",
       "      <td>8.030000e+08</td>\n",
       "      <td>10106008</td>\n",
       "      <td>3353</td>\n",
       "    </tr>\n",
       "    <tr>\n",
       "      <th>Equity(21 [AAME])</th>\n",
       "      <td>1.021170e+08</td>\n",
       "      <td>2.226000e+06</td>\n",
       "      <td>10324058</td>\n",
       "      <td>6311</td>\n",
       "    </tr>\n",
       "    <tr>\n",
       "      <th>Equity(24 [AAPL])</th>\n",
       "      <td>1.115470e+11</td>\n",
       "      <td>1.355600e+10</td>\n",
       "      <td>31167138</td>\n",
       "      <td>3571</td>\n",
       "    </tr>\n",
       "    <tr>\n",
       "      <th>Equity(25 [ARNC_PR])</th>\n",
       "      <td>1.233800e+10</td>\n",
       "      <td>8.030000e+08</td>\n",
       "      <td>10106008</td>\n",
       "      <td>3353</td>\n",
       "    </tr>\n",
       "    <tr>\n",
       "      <th>Equity(31 [ABAX])</th>\n",
       "      <td>2.020800e+08</td>\n",
       "      <td>1.104000e+07</td>\n",
       "      <td>20640091</td>\n",
       "      <td>3826</td>\n",
       "    </tr>\n",
       "  </tbody>\n",
       "</table>\n",
       "</div>"
      ],
      "text/plain": [
       "                                                common_stock_equity  \\\n",
       "2015-01-02 00:00:00+00:00 Equity(2 [ARNC])             1.233800e+10   \n",
       "                          Equity(21 [AAME])            1.021170e+08   \n",
       "                          Equity(24 [AAPL])            1.115470e+11   \n",
       "                          Equity(25 [ARNC_PR])         1.233800e+10   \n",
       "                          Equity(31 [ABAX])            2.020800e+08   \n",
       "\n",
       "                                                      ebitda  industry_code  \\\n",
       "2015-01-02 00:00:00+00:00 Equity(2 [ARNC])      8.030000e+08       10106008   \n",
       "                          Equity(21 [AAME])     2.226000e+06       10324058   \n",
       "                          Equity(24 [AAPL])     1.355600e+10       31167138   \n",
       "                          Equity(25 [ARNC_PR])  8.030000e+08       10106008   \n",
       "                          Equity(31 [ABAX])     1.104000e+07       20640091   \n",
       "\n",
       "                                                 sic  \n",
       "2015-01-02 00:00:00+00:00 Equity(2 [ARNC])      3353  \n",
       "                          Equity(21 [AAME])     6311  \n",
       "                          Equity(24 [AAPL])     3571  \n",
       "                          Equity(25 [ARNC_PR])  3353  \n",
       "                          Equity(31 [ABAX])     3826  "
      ]
     },
     "execution_count": 39,
     "metadata": {},
     "output_type": "execute_result"
    }
   ],
   "source": [
    "workingdf.head()"
   ]
  },
  {
   "cell_type": "code",
   "execution_count": 40,
   "metadata": {
    "collapsed": false
   },
   "outputs": [
    {
     "data": {
      "text/html": [
       "<div>\n",
       "<table border=\"1\" class=\"dataframe\">\n",
       "  <thead>\n",
       "    <tr style=\"text-align: right;\">\n",
       "      <th></th>\n",
       "      <th></th>\n",
       "      <th>common_stock_equity</th>\n",
       "      <th>ebitda</th>\n",
       "      <th>industry_code</th>\n",
       "      <th>sic</th>\n",
       "      <th>ebitda_per_share</th>\n",
       "    </tr>\n",
       "  </thead>\n",
       "  <tbody>\n",
       "    <tr>\n",
       "      <th rowspan=\"5\" valign=\"top\">2015-01-02 00:00:00+00:00</th>\n",
       "      <th>Equity(2 [ARNC])</th>\n",
       "      <td>1.233800e+10</td>\n",
       "      <td>8.030000e+08</td>\n",
       "      <td>10106008</td>\n",
       "      <td>3353</td>\n",
       "      <td>0.065083</td>\n",
       "    </tr>\n",
       "    <tr>\n",
       "      <th>Equity(21 [AAME])</th>\n",
       "      <td>1.021170e+08</td>\n",
       "      <td>2.226000e+06</td>\n",
       "      <td>10324058</td>\n",
       "      <td>6311</td>\n",
       "      <td>0.021799</td>\n",
       "    </tr>\n",
       "    <tr>\n",
       "      <th>Equity(24 [AAPL])</th>\n",
       "      <td>1.115470e+11</td>\n",
       "      <td>1.355600e+10</td>\n",
       "      <td>31167138</td>\n",
       "      <td>3571</td>\n",
       "      <td>0.121527</td>\n",
       "    </tr>\n",
       "    <tr>\n",
       "      <th>Equity(25 [ARNC_PR])</th>\n",
       "      <td>1.233800e+10</td>\n",
       "      <td>8.030000e+08</td>\n",
       "      <td>10106008</td>\n",
       "      <td>3353</td>\n",
       "      <td>0.065083</td>\n",
       "    </tr>\n",
       "    <tr>\n",
       "      <th>Equity(31 [ABAX])</th>\n",
       "      <td>2.020800e+08</td>\n",
       "      <td>1.104000e+07</td>\n",
       "      <td>20640091</td>\n",
       "      <td>3826</td>\n",
       "      <td>0.054632</td>\n",
       "    </tr>\n",
       "  </tbody>\n",
       "</table>\n",
       "</div>"
      ],
      "text/plain": [
       "                                                common_stock_equity  \\\n",
       "2015-01-02 00:00:00+00:00 Equity(2 [ARNC])             1.233800e+10   \n",
       "                          Equity(21 [AAME])            1.021170e+08   \n",
       "                          Equity(24 [AAPL])            1.115470e+11   \n",
       "                          Equity(25 [ARNC_PR])         1.233800e+10   \n",
       "                          Equity(31 [ABAX])            2.020800e+08   \n",
       "\n",
       "                                                      ebitda  industry_code  \\\n",
       "2015-01-02 00:00:00+00:00 Equity(2 [ARNC])      8.030000e+08       10106008   \n",
       "                          Equity(21 [AAME])     2.226000e+06       10324058   \n",
       "                          Equity(24 [AAPL])     1.355600e+10       31167138   \n",
       "                          Equity(25 [ARNC_PR])  8.030000e+08       10106008   \n",
       "                          Equity(31 [ABAX])     1.104000e+07       20640091   \n",
       "\n",
       "                                                 sic  ebitda_per_share  \n",
       "2015-01-02 00:00:00+00:00 Equity(2 [ARNC])      3353          0.065083  \n",
       "                          Equity(21 [AAME])     6311          0.021799  \n",
       "                          Equity(24 [AAPL])     3571          0.121527  \n",
       "                          Equity(25 [ARNC_PR])  3353          0.065083  \n",
       "                          Equity(31 [ABAX])     3826          0.054632  "
      ]
     },
     "execution_count": 40,
     "metadata": {},
     "output_type": "execute_result"
    }
   ],
   "source": [
    "workingdf['ebitda_per_share'] = workingdf.ebitda / workingdf.common_stock_equity\n",
    "workingdf.head()"
   ]
  },
  {
   "cell_type": "code",
   "execution_count": 44,
   "metadata": {
    "collapsed": false
   },
   "outputs": [
    {
     "name": "stdout",
     "output_type": "stream",
     "text": [
      "(8208, 5)\n"
     ]
    },
    {
     "data": {
      "text/plain": [
       "-1           2474\n",
       " 10320050     414\n",
       " 20635084     313\n",
       " 10319042     261\n",
       " 30947102     179\n",
       "Name: industry_code, dtype: int64"
      ]
     },
     "execution_count": 44,
     "metadata": {},
     "output_type": "execute_result"
    }
   ],
   "source": [
    "print workingdf.shape\n",
    "workingdf.industry_code.value_counts().head()"
   ]
  },
  {
   "cell_type": "code",
   "execution_count": 60,
   "metadata": {
    "collapsed": false
   },
   "outputs": [
    {
     "name": "stdout",
     "output_type": "stream",
     "text": [
      "shape of dropping all nans:  (5146, 5)\n",
      "final clean df shape:  (5141, 5)\n",
      "142\n"
     ]
    }
   ],
   "source": [
    "# get rid on all rows with NaN values\n",
    "print \"shape of dropping all nans: \", workingdf.dropna(axis=0).shape\n",
    "df_nonans = workingdf.dropna(axis=0)\n",
    "# df_nonans.industry_code.value_counts()\n",
    "# get rid of industry 10320045 cause it only has 1 company in it\n",
    "df_nonans = df_nonans[df_nonans.industry_code != 10320045]\n",
    "df_nonans.industry_code.value_counts()\n",
    "# get rid of industry -1 cause its misceallaneous industry and only has 4 companies in it\n",
    "df_nonans = df_nonans[df_nonans.industry_code != -1]\n",
    "df_nonans.industry_code.value_counts()\n",
    "# Wahoo! clean dataframe\n",
    "df_clean = df_nonans\n",
    "print \"final clean df shape: \", df_clean.shape\n",
    "print len(df_clean.industry_code.value_counts())"
   ]
  },
  {
   "cell_type": "code",
   "execution_count": 63,
   "metadata": {
    "collapsed": false
   },
   "outputs": [
    {
     "name": "stdout",
     "output_type": "stream",
     "text": [
      "[10106008, 10324058, 31167138, 20640091, 10106011, 31062127, 31054109, 20639090, 20636086, 10106010, 10319042, 31165133, 10209019, 20529071, 10103003, 10104005, 31055110, 20531076, 31165132, 31056111, 31167142, 31169147, 20531075, 30950105, 20744096, 10209020, 20744095, 20637087, 10320052, 31059116, 30947102, 10323057, 10211025, 31052107, 10321055, 31062126, 31053108, 20635084, 31167137, 10428070, 31169145, 31061119, 10210023, 10101001, 20638089, 31167141, 10212028, 10209016, 10217033, 31166135, 10102002, 31062123, 10320050, 10320051, 31167143, 31057113, 20744097, 30845100, 30946101, 10211024, 31061118, 10322056, 10217037, 10320043, 20642093, 10218039, 10216032, 20529072, 31167139, 30951106, 10325059, 10213029, 10320049, 20636085, 10217034, 31061120, 30949104, 31056112, 20531077, 10428064, 10212027, 31165134, 20533082, 31058114, 10103004, 31061121, 20530073, 10106012, 20641092, 31165131, 20744098, 31064129, 10107013, 30845099, 20533079, 10215031, 10209018, 31062125, 10427062, 31061122, 10428067, 10105007, 31167140, 20532078, 31165130, 31062124, 10209017, 10321053, 31060117, 10428066, 10212026, 10427063, 10428068, 10217035, 10428065, 10218040, 10214030, 20531074, 10218038, 31168144, 10208014, 10208015, 10326061, 10210022, 10218041, 20534083, 31169146, 31063128, 20638088, 10105006, 20533080, 20533081, 31167136, 10217036, 30948103, 10428069, 10210021, 10326060, 10106009, 10321054, 20743094, 31169148]\n"
     ]
    }
   ],
   "source": [
    "# get list of industry codes without repreats\n",
    "def get_industry_codes_no_repeats(df):\n",
    "    goal_length = len(df.industry_code.value_counts())\n",
    "    industry_code_array = []\n",
    "    for code in df.industry_code:\n",
    "        if code not in industry_code_array:\n",
    "            industry_code_array.append(code)\n",
    "    if len(industry_code_array) == goal_length:\n",
    "        return industry_code_array\n",
    "    else:\n",
    "        return \"NOPE\"\n",
    "\n",
    "print get_industry_codes_no_repeats(df_clean)"
   ]
  },
  {
   "cell_type": "code",
   "execution_count": 71,
   "metadata": {
    "collapsed": false
   },
   "outputs": [
    {
     "name": "stdout",
     "output_type": "stream",
     "text": [
      "142\n"
     ]
    }
   ],
   "source": [
    "def create_dfArray_by_industry(df):\n",
    "    dfArray_by_industry = []\n",
    "    industry_codes = get_industry_codes_no_repeats(df)\n",
    "    for code in industry_codes:\n",
    "        dfArray_by_industry.append(df[df.industry_code == code])\n",
    "    return dfArray_by_industry\n",
    "        \n",
    "print len(create_dfArray_by_industry(df_clean))"
   ]
  },
  {
   "cell_type": "code",
   "execution_count": null,
   "metadata": {
    "collapsed": true
   },
   "outputs": [],
   "source": []
  }
 ],
 "metadata": {
  "kernelspec": {
   "display_name": "Python 2",
   "language": "python",
   "name": "python2"
  },
  "language_info": {
   "codemirror_mode": {
    "name": "ipython",
    "version": 2
   },
   "file_extension": ".py",
   "mimetype": "text/x-python",
   "name": "python",
   "nbconvert_exporter": "python",
   "pygments_lexer": "ipython2",
   "version": "2.7.12"
  }
 },
 "nbformat": 4,
 "nbformat_minor": 2
}