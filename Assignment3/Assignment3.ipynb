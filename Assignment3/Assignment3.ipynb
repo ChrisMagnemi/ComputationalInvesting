{
 "cells": [
  {
   "cell_type": "markdown",
   "metadata": {},
   "source": [
    "# <center>EC3382 - Assignment 3</center>"
   ]
  },
  {
   "cell_type": "code",
   "execution_count": 1,
   "metadata": {
    "collapsed": true,
    "run_control": {
     "frozen": false,
     "read_only": false
    }
   },
   "outputs": [],
   "source": [
    "import numpy as np\n",
    "import pandas as pd"
   ]
  },
  {
   "cell_type": "markdown",
   "metadata": {},
   "source": [
    "In this assignment,  I want you to take the skills you have learned to define a trading strategy and get used to how it works. Then, I want you to optimize it on some price data. In the process, you will write a mini broker. This gets you thinking about what happens once your trading program interacts with Quantopian. This is clearly an abstraction but all the questions that you will ask doing this assignment are exactly the ones that you should be asking when you code on Quantopian. \n",
    "\n",
    "We downloaded some daily historical prices from Yahoo Finance. These data were downloaded via navigating to the URL:\n",
    "http://ichart.finance.yahoo.com/table.csv?s=BAC&a=00&b=01&c=2000&d=11&e=31&f=2009&g=d&ignore=.csv\n",
    "Where the letters BAC (CMA,USB,WFC) represent the ticker and the parameters (a-g) represent the from and to dates. loadData.py loads the downloaded data as a pandas frame. Take a look to see how this works. For the grading, I will use different tickers and different dates as the data."
   ]
  },
  {
   "cell_type": "code",
   "execution_count": 2,
   "metadata": {
    "collapsed": true,
    "run_control": {
     "frozen": false,
     "read_only": false
    }
   },
   "outputs": [],
   "source": [
    "from loadData import BAC, CMA, USB, WFC\n",
    "#You should print these out to see what you are working with"
   ]
  },
  {
   "cell_type": "code",
   "execution_count": 3,
   "metadata": {},
   "outputs": [
    {
     "data": {
      "text/html": [
       "<div>\n",
       "<style>\n",
       "    .dataframe thead tr:only-child th {\n",
       "        text-align: right;\n",
       "    }\n",
       "\n",
       "    .dataframe thead th {\n",
       "        text-align: left;\n",
       "    }\n",
       "\n",
       "    .dataframe tbody tr th {\n",
       "        vertical-align: top;\n",
       "    }\n",
       "</style>\n",
       "<table border=\"1\" class=\"dataframe\">\n",
       "  <thead>\n",
       "    <tr style=\"text-align: right;\">\n",
       "      <th></th>\n",
       "      <th>Date</th>\n",
       "      <th>Open</th>\n",
       "      <th>High</th>\n",
       "      <th>Low</th>\n",
       "      <th>Close</th>\n",
       "      <th>Volume</th>\n",
       "      <th>Adj Close</th>\n",
       "    </tr>\n",
       "  </thead>\n",
       "  <tbody>\n",
       "    <tr>\n",
       "      <th>2514</th>\n",
       "      <td>2000-01-03</td>\n",
       "      <td>50.2500</td>\n",
       "      <td>50.2500</td>\n",
       "      <td>48.0000</td>\n",
       "      <td>48.4375</td>\n",
       "      <td>13705800</td>\n",
       "      <td>15.289114</td>\n",
       "    </tr>\n",
       "    <tr>\n",
       "      <th>2513</th>\n",
       "      <td>2000-01-04</td>\n",
       "      <td>47.7500</td>\n",
       "      <td>47.9375</td>\n",
       "      <td>44.9375</td>\n",
       "      <td>45.5625</td>\n",
       "      <td>27293400</td>\n",
       "      <td>14.381631</td>\n",
       "    </tr>\n",
       "    <tr>\n",
       "      <th>2512</th>\n",
       "      <td>2000-01-05</td>\n",
       "      <td>45.0625</td>\n",
       "      <td>46.4375</td>\n",
       "      <td>44.5000</td>\n",
       "      <td>46.0625</td>\n",
       "      <td>22855600</td>\n",
       "      <td>14.539455</td>\n",
       "    </tr>\n",
       "    <tr>\n",
       "      <th>2511</th>\n",
       "      <td>2000-01-06</td>\n",
       "      <td>46.9375</td>\n",
       "      <td>50.0000</td>\n",
       "      <td>46.7500</td>\n",
       "      <td>50.0000</td>\n",
       "      <td>17307000</td>\n",
       "      <td>15.782312</td>\n",
       "    </tr>\n",
       "    <tr>\n",
       "      <th>2510</th>\n",
       "      <td>2000-01-07</td>\n",
       "      <td>49.6250</td>\n",
       "      <td>49.6250</td>\n",
       "      <td>48.0000</td>\n",
       "      <td>48.6875</td>\n",
       "      <td>11632800</td>\n",
       "      <td>15.368026</td>\n",
       "    </tr>\n",
       "  </tbody>\n",
       "</table>\n",
       "</div>"
      ],
      "text/plain": [
       "            Date     Open     High      Low    Close    Volume  Adj Close\n",
       "2514  2000-01-03  50.2500  50.2500  48.0000  48.4375  13705800  15.289114\n",
       "2513  2000-01-04  47.7500  47.9375  44.9375  45.5625  27293400  14.381631\n",
       "2512  2000-01-05  45.0625  46.4375  44.5000  46.0625  22855600  14.539455\n",
       "2511  2000-01-06  46.9375  50.0000  46.7500  50.0000  17307000  15.782312\n",
       "2510  2000-01-07  49.6250  49.6250  48.0000  48.6875  11632800  15.368026"
      ]
     },
     "execution_count": 3,
     "metadata": {},
     "output_type": "execute_result"
    }
   ],
   "source": [
    "BAC.head()"
   ]
  },
  {
   "cell_type": "code",
   "execution_count": 4,
   "metadata": {
    "collapsed": true
   },
   "outputs": [],
   "source": [
    "# CMA.head()"
   ]
  },
  {
   "cell_type": "code",
   "execution_count": 5,
   "metadata": {
    "collapsed": true
   },
   "outputs": [],
   "source": [
    "# USB.head()"
   ]
  },
  {
   "cell_type": "code",
   "execution_count": 6,
   "metadata": {
    "collapsed": true
   },
   "outputs": [],
   "source": [
    "# WFC.head()"
   ]
  },
  {
   "cell_type": "markdown",
   "metadata": {},
   "source": [
    "## Part A: Combining the data into a Pandas dataframe"
   ]
  },
  {
   "cell_type": "markdown",
   "metadata": {},
   "source": [
    "Write a function which takes as inputs:  \n",
    "a) a list of Pandas dataframes formatted like the one given above  \n",
    "b) a list of ticker names  \n",
    "\n",
    "and returns a new dataframe containing the adjusted prices of the input dataframes and the date. Rename adjusted prices so that the column name is the ticker symbol. Use the df.merge command to join the dataframes together. http://pandas.pydata.org/pandas-docs/stable/generated/pandas.DataFrame.merge.html\n",
    "\n",
    "Use an inner join using 'Date' as a key. In doing this, dates where one of the stocks was not traded will be excluded. This is strictly not kosher for trading and you should be aware of it. In commercial trading systems, you will have to make sure that the algorithm only runs when all the data is \"as expected\". Code defensively. When something unexpected, your code needs to choke. For now, we ignore this issue.\n",
    "\n",
    "```python \n",
    "allPrices = combineData([BAC, CMA, USB],['BAC','CMA','USB'])\n",
    "print allPrices[0:3]\n",
    "```\n",
    "\n",
    "the output would be\n",
    "\n",
    "```python \n",
    "         Date        BAC        CMA        USB\n",
    "0  2000-01-03  15.289114  27.197519  10.278392\n",
    "1  2000-01-04  14.381631  26.064289   9.931932\n",
    "2  2000-01-05  14.539455  25.988740   9.903059\n",
    "```"
   ]
  },
  {
   "cell_type": "code",
   "execution_count": 7,
   "metadata": {
    "run_control": {
     "frozen": false,
     "read_only": false
    }
   },
   "outputs": [
    {
     "name": "stdout",
     "output_type": "stream",
     "text": [
      "         Date        BAC        CMA        USB\n",
      "0  2000-01-03  15.289114  27.197519  10.278392\n",
      "1  2000-01-04  14.381631  26.064289   9.931932\n",
      "2  2000-01-05  14.539455  25.988740   9.903059\n"
     ]
    }
   ],
   "source": [
    "#Example answer. Replace with pass to release\n",
    "def combineData(inputList,colName):\n",
    "    for j in range(len(inputList)):\n",
    "        inputList[j] = inputList[j][[\"Date\",\"Adj Close\"]]\n",
    "    master_df = inputList[0]\n",
    "    for i in range(len(inputList)-1):\n",
    "        master_df = master_df.merge(inputList[i+1], on=\"Date\")\n",
    "    newColNames = [\"Date\"]\n",
    "    for k in range(len(colName)):\n",
    "        newColNames.append(colName[k])\n",
    "    master_df.columns = newColNames\n",
    "    return master_df\n",
    "\n",
    "allPrices = combineData([BAC, CMA, USB],['BAC','CMA','USB'])\n",
    "print allPrices[0:3]"
   ]
  },
  {
   "cell_type": "markdown",
   "metadata": {},
   "source": [
    "## Part B: Mean reversion strategy\n",
    "\n",
    "Create a function that takes as input  \n",
    "a) a data frame formatted like BAC (Columsn: Date, BAC) given above. This is a subset of allPrices that you have just constructed.  \n",
    "b) a parameter for how many lag periods to use in calculating moving average  \n",
    "c) a parameter for the multiples of standard deviation as a threshold  \n",
    "\n",
    "and returns a dataframe with an additional column called Order. Order is -1 if the current price strictly exceeds its k day moving average plus m times the k day moving standard deviation and returns 1 if the price is strictly lower than the k day moving average minus m times the k day moving standard deviation. \n",
    "\n",
    "Remember that a k day moving average for the mean and standard deviation will require k datapoints. Hence, your function should return 0 whenever there is not enough data to evaluate the strategy. \n",
    "\n",
    "Assume that the first column is always Date, and the second column is always some price of a ticker symbol (not necc. BAC).\n",
    "\n",
    "If the input is...\n",
    "```python\n",
    "print allPrices.ix[0:10,0:2]\n",
    "          Date        BAC\n",
    "0   2000-01-03  15.289114\n",
    "1   2000-01-04  14.381631\n",
    "2   2000-01-05  14.539455\n",
    "3   2000-01-06  15.782312\n",
    "4   2000-01-07  15.368026\n",
    "5   2000-01-10  14.835373\n",
    "6   2000-01-11  14.519727\n",
    "7   2000-01-12  14.677550\n",
    "8   2000-01-13  15.012924\n",
    "9   2000-01-14  15.940135\n",
    "10  2000-01-18  15.151019     \n",
    "\n",
    "\n",
    "dfTrades = meanRevert(df,k = 3,m = 0.1)\n",
    "print dfTrades\n",
    "          Date        BAC  Order\n",
    "          Date        BAC  Order\n",
    "0   2000-01-03  15.289114      0\n",
    "1   2000-01-04  14.381631      0\n",
    "2   2000-01-05  14.539455      1\n",
    "3   2000-01-06  15.782312     -1\n",
    "4   2000-01-07  15.368026     -1\n",
    "5   2000-01-10  14.835373      1\n",
    "6   2000-01-11  14.519727      1\n",
    "7   2000-01-12  14.677550      0\n",
    "8   2000-01-13  15.012924     -1\n",
    "9   2000-01-14  15.940135     -1\n",
    "10  2000-01-18  15.151019      1\n",
    "```\n",
    "\n"
   ]
  },
  {
   "cell_type": "code",
   "execution_count": 8,
   "metadata": {
    "run_control": {
     "frozen": false,
     "read_only": false
    }
   },
   "outputs": [
    {
     "data": {
      "text/html": [
       "<div>\n",
       "<style>\n",
       "    .dataframe thead tr:only-child th {\n",
       "        text-align: right;\n",
       "    }\n",
       "\n",
       "    .dataframe thead th {\n",
       "        text-align: left;\n",
       "    }\n",
       "\n",
       "    .dataframe tbody tr th {\n",
       "        vertical-align: top;\n",
       "    }\n",
       "</style>\n",
       "<table border=\"1\" class=\"dataframe\">\n",
       "  <thead>\n",
       "    <tr style=\"text-align: right;\">\n",
       "      <th></th>\n",
       "      <th>Date</th>\n",
       "      <th>BAC</th>\n",
       "      <th>Order</th>\n",
       "    </tr>\n",
       "  </thead>\n",
       "  <tbody>\n",
       "    <tr>\n",
       "      <th>0</th>\n",
       "      <td>2000-01-03</td>\n",
       "      <td>15.289114</td>\n",
       "      <td>0</td>\n",
       "    </tr>\n",
       "    <tr>\n",
       "      <th>1</th>\n",
       "      <td>2000-01-04</td>\n",
       "      <td>14.381631</td>\n",
       "      <td>0</td>\n",
       "    </tr>\n",
       "    <tr>\n",
       "      <th>2</th>\n",
       "      <td>2000-01-05</td>\n",
       "      <td>14.539455</td>\n",
       "      <td>1</td>\n",
       "    </tr>\n",
       "    <tr>\n",
       "      <th>3</th>\n",
       "      <td>2000-01-06</td>\n",
       "      <td>15.782312</td>\n",
       "      <td>-1</td>\n",
       "    </tr>\n",
       "    <tr>\n",
       "      <th>4</th>\n",
       "      <td>2000-01-07</td>\n",
       "      <td>15.368026</td>\n",
       "      <td>-1</td>\n",
       "    </tr>\n",
       "    <tr>\n",
       "      <th>5</th>\n",
       "      <td>2000-01-10</td>\n",
       "      <td>14.835373</td>\n",
       "      <td>1</td>\n",
       "    </tr>\n",
       "    <tr>\n",
       "      <th>6</th>\n",
       "      <td>2000-01-11</td>\n",
       "      <td>14.519727</td>\n",
       "      <td>1</td>\n",
       "    </tr>\n",
       "    <tr>\n",
       "      <th>7</th>\n",
       "      <td>2000-01-12</td>\n",
       "      <td>14.677550</td>\n",
       "      <td>0</td>\n",
       "    </tr>\n",
       "    <tr>\n",
       "      <th>8</th>\n",
       "      <td>2000-01-13</td>\n",
       "      <td>15.012924</td>\n",
       "      <td>-1</td>\n",
       "    </tr>\n",
       "    <tr>\n",
       "      <th>9</th>\n",
       "      <td>2000-01-14</td>\n",
       "      <td>15.940135</td>\n",
       "      <td>-1</td>\n",
       "    </tr>\n",
       "    <tr>\n",
       "      <th>10</th>\n",
       "      <td>2000-01-18</td>\n",
       "      <td>15.151019</td>\n",
       "      <td>1</td>\n",
       "    </tr>\n",
       "  </tbody>\n",
       "</table>\n",
       "</div>"
      ],
      "text/plain": [
       "          Date        BAC  Order\n",
       "0   2000-01-03  15.289114      0\n",
       "1   2000-01-04  14.381631      0\n",
       "2   2000-01-05  14.539455      1\n",
       "3   2000-01-06  15.782312     -1\n",
       "4   2000-01-07  15.368026     -1\n",
       "5   2000-01-10  14.835373      1\n",
       "6   2000-01-11  14.519727      1\n",
       "7   2000-01-12  14.677550      0\n",
       "8   2000-01-13  15.012924     -1\n",
       "9   2000-01-14  15.940135     -1\n",
       "10  2000-01-18  15.151019      1"
      ]
     },
     "execution_count": 8,
     "metadata": {},
     "output_type": "execute_result"
    }
   ],
   "source": [
    "def meanRevert(df,k,m):\n",
    "    df[\"Roll_mean\"] = pd.DataFrame(df.iloc[:,1]).rolling(window=k,center=False).mean()\n",
    "    df[\"Roll_sd\"] = pd.DataFrame(df.iloc[:,1]).rolling(window=k,center=False).std()\n",
    "    df[\"Comparison_top\"] = df.Roll_mean + m*df.Roll_sd\n",
    "    df[\"Comparison_bottom\"] = df.Roll_mean - m*df.Roll_sd\n",
    "    df.fillna(0, inplace=True)\n",
    "    df[\"Order\"] = np.where(df[df.columns[1]] > df.Comparison_top,-1,0)\n",
    "    df[\"Order\"] = np.where((df[df.columns[1]] < df.Comparison_bottom), 1, df[\"Order\"])\n",
    "    df = df.drop([\"Roll_mean\", \"Roll_sd\",\"Comparison_top\",\"Comparison_bottom\"], axis=1)\n",
    "    df.loc[0:(k-2),\"Order\"] = 0\n",
    "    return df\n",
    "\n",
    "dfTrades = meanRevert(df = allPrices.iloc[0:11,0:2],k = 3, m = 0.1)\n",
    "dfTrades"
   ]
  },
  {
   "cell_type": "code",
   "execution_count": 9,
   "metadata": {
    "collapsed": true
   },
   "outputs": [],
   "source": [
    "def get_mean(a):\n",
    "    no_nans_a = [value for value in a if not np.isnan(value)]\n",
    "    return np.sum(no_nans_a) / len(no_nans_a)\n",
    "\n",
    "def get_stddev(a):\n",
    "    m = get_mean(a)\n",
    "    no_nans_a = [value for value in a if not np.isnan(value)]\n",
    "    sumy = 0\n",
    "    for item in no_nans_a:\n",
    "        sumy += (item - m)**2\n",
    "    return (sumy/(len(no_nans_a)-1))**.5\n",
    "\n",
    "def get_ratio(a, baseline):\n",
    "    returns = get_returns(a)\n",
    "    retdiff = returns - baseline\n",
    "    return get_mean(retdiff)/get_stddev(retdiff)\n",
    "\n",
    "def get_returns(a):\n",
    "    percentages = [np.nan]\n",
    "    for i in range(len(a)-1):\n",
    "        percentages.append((a[i+1]-a[i])/a[i])\n",
    "    return np.around(percentages, decimals=8)\n",
    "\n",
    "def get_excess_returns(returns, baseline):\n",
    "    return returns - baseline\n"
   ]
  },
  {
   "cell_type": "markdown",
   "metadata": {},
   "source": [
    "## Part C: Trading\n",
    "\n",
    "Construct a simple function (robotBroker) that takes  \n",
    "a) a dataframe formatted like dfTrades  \n",
    "b) Money. eg: https://www.youtube.com/watch?v=l91ISfcuzDw   \n",
    "\n",
    "and outputs  \n",
    "a) the sharpe ratio\n",
    "\n",
    "Your function will simply keep track of the value of your portfolio (including money starting from the initial amount). Finally, it computes the returns and the unadjusted Sharpe Ratio from the Value column.\n",
    "\n",
    "To illustrate, I made the prices easy to work with. The initial cash in this example is 10\n",
    "```python \n",
    "          Date  BAC  Order Position Value\n",
    "1   2009-12-28  1      0      0     10  = starting amount\n",
    "2   2009-12-29  5      1      1     10  = 5 cash + 5 long\n",
    "3   2009-12-30  4     -2      -1     9  = 13 cash - 4 cover\n",
    "```\n",
    "\n",
    "You *may* want to follow the data structure illustrated here. I am only interested in the Sharpe Ratio at the end. While there is a lot of code to write, a certain concept called copy-paste will come in useful! Take a look at Assignment 2. \n",
    "\n",
    "```python\n",
    "A more realistic intermediate step. I only care about the Sharpe ratio\n",
    "          Date        BAC  Order      Value\n",
    "0   2000-01-03  15.289114      0  10.000000\n",
    "1   2000-01-04  14.381631      0  10.000000\n",
    "2   2000-01-05  14.539455      1  10.000000\n",
    "3   2000-01-06  15.782312     -1  11.242857\n",
    "4   2000-01-07  15.368026     -1  11.242857\n",
    "5   2000-01-10  14.835373      1  11.775510\n",
    "6   2000-01-11  14.519727      1  11.775510\n",
    "7   2000-01-12  14.677550      0  11.933333\n",
    "8   2000-01-13  15.012924     -1  12.268707\n",
    "9   2000-01-14  15.940135     -1  12.268707\n",
    "10  2000-01-18  15.151019      1  13.057823\n",
    "\n",
    "sharpe = robotBroker(dfTrades,initCash = 10)\n",
    "print sharpe\n",
    "0.67749700464\n",
    "```\n"
   ]
  },
  {
   "cell_type": "code",
   "execution_count": 10,
   "metadata": {},
   "outputs": [
    {
     "data": {
      "text/plain": [
       "0.67749701409101648"
      ]
     },
     "execution_count": 10,
     "metadata": {},
     "output_type": "execute_result"
    }
   ],
   "source": [
    "def robotBroker(df, initCash):\n",
    "    df[\"Value\"] = initCash\n",
    "    stock = df.columns[1]\n",
    "    df[\"Stock_val\"] = 0\n",
    "    df[\"Position\"] = 0\n",
    "    for j in range(len(df.Order)):\n",
    "        df.loc[j,\"Position\"] = np.sum(df.loc[0:j,\"Order\"])\n",
    "        df.loc[j, \"Stock_val\"] = df.loc[j, stock] * df.loc[j, \"Position\"]\n",
    "    df[\"Cash\"] = initCash\n",
    "    for i in range(1, len(df.Order)):\n",
    "        prev_cash = df.loc[i-1,\"Cash\"]\n",
    "        cash = prev_cash - (df.loc[i, \"Order\"]*df.loc[i, stock])\n",
    "        df.loc[i, \"Cash\"] = cash\n",
    "    df[\"Value\"] = df.Cash + df.Stock_val\n",
    "    riskfree = np.zeros(df.Value.count())\n",
    "    return get_ratio(df.Value, riskfree)\n",
    "\n",
    "\n",
    "sharpe = robotBroker(dfTrades,initCash = 10)\n",
    "sharpe"
   ]
  },
  {
   "cell_type": "markdown",
   "metadata": {},
   "source": [
    "## Part D: Optimization\n",
    "Let's put it all together! We want to try out different strategy parameters on different stocks. I want you to think about why you are finding what you are finding as you play with your strategy. Think BIG. Think about what is possible. This is just a simple motivational example.\n",
    "\n",
    "Construct a function that takes as inputs:\n",
    "\n",
    "a) A dataframe formatted like \"allPrices\"  \n",
    "b) A list of tickers contained within allPrice, ie, ['BAC','USB']. These are the tickers to test.  \n",
    "c) A list of lags k to try out, eg [3,4,5]\n",
    "d) A list of cutoffs m to try out, eg [0.1,0.2,0.5]\n",
    "e) An initial sum of money eg 100\n",
    "\n",
    "\n",
    "The output:  \n",
    "i) kBest a list containing the best choice of kBest for each of the input tickers in (b)  \n",
    "ii) mBest a list containing the best choice of m for each of the input tickers in (b)  \n",
    "iii) The corresponding sharpe ratio\n",
    "\n",
    "Example\n",
    "```python\n",
    "[kBest, mBest, maxSharpe] = optimizeParams(allPrices[0:10],['BAC','USB'],[3,4,5],[0.1,0.2,0.5],100)\n",
    "print kBest, mBest, maxSharpe\n",
    "[3, 3] [0.5, 0.1] [0.75110882013827451, 0.51505589272506302]\n",
    "```"
   ]
  },
  {
   "cell_type": "code",
   "execution_count": 42,
   "metadata": {},
   "outputs": [
    {
     "name": "stdout",
     "output_type": "stream",
     "text": [
      "[3, 3] [0.5, 0.1] [0.75110910296904509, 0.51505540101753122]\n"
     ]
    }
   ],
   "source": [
    "def optimizeParams(df, tickerList, kList, mList, initCash):\n",
    "    listty = []\n",
    "    for stock in tickerList:\n",
    "        bestSharpe = 0\n",
    "        best_k = 0\n",
    "        best_m = 0\n",
    "        ticker_df = df.loc[:,[\"Date\", stock]]\n",
    "        for k in kList:\n",
    "            for m in mList:\n",
    "                working_df = meanRevert(ticker_df,k,m)\n",
    "                current_sharpe = robotBroker(working_df, initCash)\n",
    "                if current_sharpe > bestSharpe:\n",
    "                    bestSharpe = current_sharpe\n",
    "                    best_k = k\n",
    "                    best_m = m\n",
    "        listty.append([stock,best_k, best_m, bestSharpe])\n",
    "#     print listty\n",
    "    kBest = []\n",
    "    mBest = []\n",
    "    maxSharpe = []\n",
    "    for lst in listty:\n",
    "        kBest.append(lst[1])\n",
    "        mBest.append(lst[2])\n",
    "        maxSharpe.append(lst[3])\n",
    "#     print zip(listty[0:2])\n",
    "    return kBest,mBest,maxSharpe\n",
    "                              \n",
    "[kBest, mBest, maxSharpe] = optimizeParams(allPrices[0:10],['BAC','USB'],[3,4,5],[0.1,0.2,0.5],100)\n",
    "print kBest, mBest, maxSharpe"
   ]
  },
  {
   "cell_type": "code",
   "execution_count": null,
   "metadata": {
    "collapsed": true
   },
   "outputs": [],
   "source": []
  }
 ],
 "metadata": {
  "anaconda-cloud": {},
  "kernelspec": {
   "display_name": "Python 2",
   "language": "python",
   "name": "python2"
  },
  "language_info": {
   "codemirror_mode": {
    "name": "ipython",
    "version": 2
   },
   "file_extension": ".py",
   "mimetype": "text/x-python",
   "name": "python",
   "nbconvert_exporter": "python",
   "pygments_lexer": "ipython2",
   "version": "2.7.13"
  }
 },
 "nbformat": 4,
 "nbformat_minor": 1
}
